{
 "cells": [
  {
   "cell_type": "code",
   "execution_count": 3,
   "id": "54f7db61",
   "metadata": {},
   "outputs": [
    {
     "name": "stdout",
     "output_type": "stream",
     "text": [
      "Data has been scraped and exported to amazon_products.csv\n"
     ]
    }
   ],
   "source": [
    "import requests\n",
    "import csv\n",
    "from bs4 import BeautifulSoup\n",
    "\n",
    "# Number of pages to scrape\n",
    "num_pages = 20\n",
    "\n",
    "# Base URL\n",
    "base_url = 'https://www.amazon.in/s?k=bags&crid=2M096C61O4MLT&qid=1653308124&sprefix=ba%2Caps%2C283&ref=sr_pg_1'\n",
    "\n",
    "# Parameters for the search query\n",
    "params = {\n",
    "    'k': 'bags',\n",
    "    'crid': '2M096C61O4MLT',\n",
    "    'qid': '1653308124',\n",
    "    'sprefix': 'ba',\n",
    "    'ref': 'sr_pg_'\n",
    "}\n",
    "\n",
    "# Create a CSV file to store the data\n",
    "csv_filename = 'amazon_products.csv'\n",
    "csv_file = open(csv_filename, 'w', newline='', encoding='utf-8')\n",
    "csv_writer = csv.writer(csv_file,delimiter='|')\n",
    "csv_writer.writerow(['Product URL', 'Product Name', 'Product Price', 'Rating', 'Number of Reviews'])\n",
    "\n",
    "# Scrape multiple pages\n",
    "for page in range(1, num_pages + 1):\n",
    "    # Update the page number in the parameters\n",
    "    params['ref'] = f'sr_pg_{page}'\n",
    "\n",
    "    # Send a GET request to the URL\n",
    "    response = requests.get(base_url, params=params)\n",
    "\n",
    "    # Parse the HTML content using BeautifulSoup\n",
    "    soup = BeautifulSoup(response.text, 'html.parser')\n",
    "\n",
    "    # Find all the product listings on the page\n",
    "    product_listings = soup.find_all('div', {'data-component-type': 's-search-result'})\n",
    "\n",
    "    # Iterate over each product listing\n",
    "    for listing in product_listings:\n",
    "        # Extract the product URL\n",
    "        product_url = 'https://www.amazon.in' + listing.find('a', class_='a-link-normal').get('href')\n",
    "        \n",
    "        # Extract the product name\n",
    "        product_name = listing.find('span', class_='a-size-medium').text.strip()\n",
    "        \n",
    "        # Extract the product price\n",
    "        product_price = listing.find('span', class_='a-price-whole').text.strip()\n",
    "        \n",
    "        # Extract the product rating\n",
    "        product_rating = listing.find('span', class_='a-icon-alt').text.strip()\n",
    "        \n",
    "        # Extract the number of reviews\n",
    "        product_reviews = listing.find('span', class_= 'a-size-base').text.strip()\n",
    "        \n",
    "        # Write the extracted information to the CSV file\n",
    "        csv_writer.writerow([product_url, product_name, product_price, product_rating, product_reviews])\n",
    "\n",
    "# Close the CSV file\n",
    "csv_file.close()\n",
    "\n",
    "print('Data has been scraped and exported to', csv_filename)\n"
   ]
  },
  {
   "cell_type": "code",
   "execution_count": null,
   "id": "82b824aa",
   "metadata": {},
   "outputs": [],
   "source": []
  }
 ],
 "metadata": {
  "kernelspec": {
   "display_name": "Python 3 (ipykernel)",
   "language": "python",
   "name": "python3"
  },
  "language_info": {
   "codemirror_mode": {
    "name": "ipython",
    "version": 3
   },
   "file_extension": ".py",
   "mimetype": "text/x-python",
   "name": "python",
   "nbconvert_exporter": "python",
   "pygments_lexer": "ipython3",
   "version": "3.9.13"
  }
 },
 "nbformat": 4,
 "nbformat_minor": 5
}
