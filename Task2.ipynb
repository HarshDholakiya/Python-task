{
 "cells": [
  {
   "cell_type": "code",
   "execution_count": 3,
   "id": "44280f8a",
   "metadata": {},
   "outputs": [
    {
     "ename": "NameError",
     "evalue": "name 'product_urls' is not defined",
     "output_type": "error",
     "traceback": [
      "\u001b[1;31m---------------------------------------------------------------------------\u001b[0m",
      "\u001b[1;31mNameError\u001b[0m                                 Traceback (most recent call last)",
      "Input \u001b[1;32mIn [3]\u001b[0m, in \u001b[0;36m<cell line: 18>\u001b[1;34m()\u001b[0m\n\u001b[0;32m     15\u001b[0m csv_writer\u001b[38;5;241m.\u001b[39mwriterow([\u001b[38;5;124m'\u001b[39m\u001b[38;5;124mProduct URL\u001b[39m\u001b[38;5;124m'\u001b[39m, \u001b[38;5;124m'\u001b[39m\u001b[38;5;124mProduct Name\u001b[39m\u001b[38;5;124m'\u001b[39m, \u001b[38;5;124m'\u001b[39m\u001b[38;5;124mProduct Price\u001b[39m\u001b[38;5;124m'\u001b[39m, \u001b[38;5;124m'\u001b[39m\u001b[38;5;124mRating\u001b[39m\u001b[38;5;124m'\u001b[39m, \u001b[38;5;124m'\u001b[39m\u001b[38;5;124mNumber of Reviews\u001b[39m\u001b[38;5;124m'\u001b[39m, \u001b[38;5;124m'\u001b[39m\u001b[38;5;124mDescription\u001b[39m\u001b[38;5;124m'\u001b[39m, \u001b[38;5;124m'\u001b[39m\u001b[38;5;124mASIN\u001b[39m\u001b[38;5;124m'\u001b[39m, \u001b[38;5;124m'\u001b[39m\u001b[38;5;124mProduct Description\u001b[39m\u001b[38;5;124m'\u001b[39m, \u001b[38;5;124m'\u001b[39m\u001b[38;5;124mManufacturer\u001b[39m\u001b[38;5;124m'\u001b[39m])\n\u001b[0;32m     17\u001b[0m \u001b[38;5;66;03m# Scrape additional information from each product URL\u001b[39;00m\n\u001b[1;32m---> 18\u001b[0m \u001b[38;5;28;01mfor\u001b[39;00m product_url \u001b[38;5;129;01min\u001b[39;00m \u001b[43mproduct_urls\u001b[49m[:num_product_urls]:\n\u001b[0;32m     19\u001b[0m     \u001b[38;5;66;03m# Send a GET request to the product URL\u001b[39;00m\n\u001b[0;32m     20\u001b[0m     response \u001b[38;5;241m=\u001b[39m requests\u001b[38;5;241m.\u001b[39mget(product_url)\n\u001b[0;32m     22\u001b[0m     \u001b[38;5;66;03m# Parse the HTML content using BeautifulSoup\u001b[39;00m\n",
      "\u001b[1;31mNameError\u001b[0m: name 'product_urls' is not defined"
     ]
    }
   ],
   "source": [
    "import requests\n",
    "import csv\n",
    "from bs4 import BeautifulSoup\n",
    "\n",
    "# Number of product URLs to scrape\n",
    "num_product_urls = 200\n",
    "\n",
    "# Base URL for scraping additional product information\n",
    "base_url = 'https://www.amazon.in'\n",
    "\n",
    "# Create a CSV file to store the data\n",
    "csv_filename = 'amazon_product_data.csv'\n",
    "csv_file = open(csv_filename, 'w', newline='', encoding='utf-8')\n",
    "csv_writer = csv.writer(csv_file)\n",
    "csv_writer.writerow(['Product URL', 'Product Name', 'Product Price', 'Rating', 'Number of Reviews', 'Description', 'ASIN', 'Product Description', 'Manufacturer'])\n",
    "\n",
    "# Scrape additional information from each product URL\n",
    "for product_url in product_urls[:num_product_urls]:\n",
    "    # Send a GET request to the product URL\n",
    "    response = requests.get(product_url)\n",
    "\n",
    "    # Parse the HTML content using BeautifulSoup\n",
    "    soup = BeautifulSoup(response.text, 'html.parser')\n",
    "\n",
    "    # Extract the additional product information\n",
    "    product_name = soup.find('span', id='productTitle').text.strip()\n",
    "    product_price = soup.find('span', id='priceblock_ourprice').text.strip()\n",
    "    product_rating = soup.find('span', {'class': 'a-icon-alt'}).text.strip()\n",
    "    product_reviews = soup.find('span', {'class': 'a-size-base', 'dir': 'auto'}).text.strip()\n",
    "    description = soup.find('div', {'id': 'productDescription'}).text.strip()\n",
    "    asin = soup.find('th', text='ASIN').find_next_sibling('td').text.strip()\n",
    "    product_description = soup.find('div', {'id': 'productDescription'}).find('p').text.strip()\n",
    "    manufacturer = soup.find('th', text='Manufacturer').find_next_sibling('td').text.strip()\n",
    "\n",
    "    # Write the combined information to the CSV file\n",
    "    csv_writer.writerow([product_url, product_name, product_price, product_rating, product_reviews, description, asin, product_description, manufacturer])\n",
    "\n",
    "# Close the CSV file\n",
    "csv_file.close()\n",
    "\n",
    "print('Data has been scraped and exported to', csv_filename)\n"
   ]
  },
  {
   "cell_type": "code",
   "execution_count": null,
   "id": "26582da0",
   "metadata": {},
   "outputs": [],
   "source": []
  }
 ],
 "metadata": {
  "kernelspec": {
   "display_name": "Python 3 (ipykernel)",
   "language": "python",
   "name": "python3"
  },
  "language_info": {
   "codemirror_mode": {
    "name": "ipython",
    "version": 3
   },
   "file_extension": ".py",
   "mimetype": "text/x-python",
   "name": "python",
   "nbconvert_exporter": "python",
   "pygments_lexer": "ipython3",
   "version": "3.9.13"
  }
 },
 "nbformat": 4,
 "nbformat_minor": 5
}
